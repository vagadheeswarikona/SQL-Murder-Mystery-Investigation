{
  "nbformat": 4,
  "nbformat_minor": 0,
  "metadata": {
    "colab": {
      "provenance": [],
      "mount_file_id": "1ZxVsurZ90oyyuKKqJS0AJR74irjNMLPA",
      "authorship_tag": "ABX9TyNVwAgTqnHr5gebcjfm9Akb",
      "include_colab_link": true
    },
    "kernelspec": {
      "name": "python3",
      "display_name": "Python 3"
    },
    "language_info": {
      "name": "python"
    }
  },
  "cells": [
    {
      "cell_type": "markdown",
      "metadata": {
        "id": "view-in-github",
        "colab_type": "text"
      },
      "source": [
        "<a href=\"https://colab.research.google.com/github/vagadheeswarikona/SQL-Murder-Mystery-Investigation/blob/main/Week5_Solution.ipynb\" target=\"_parent\"><img src=\"https://colab.research.google.com/assets/colab-badge.svg\" alt=\"Open In Colab\"/></a>"
      ]
    },
    {
      "cell_type": "code",
      "execution_count": null,
      "metadata": {
        "id": "tfpZFMD9QaIH"
      },
      "outputs": [],
      "source": [
        "import sqlite3\n",
        "import pandas as pd"
      ]
    },
    {
      "cell_type": "code",
      "source": [
        "con= sqlite3.connect('/content/drive/MyDrive/sql-murder-mystery.db')"
      ],
      "metadata": {
        "id": "3qy_g-rmRMAY"
      },
      "execution_count": null,
      "outputs": []
    },
    {
      "cell_type": "code",
      "source": [
        "con"
      ],
      "metadata": {
        "colab": {
          "base_uri": "https://localhost:8080/"
        },
        "id": "ZdmGVaQ-SBMo",
        "outputId": "27d4c239-0363-41f7-8e5a-f888f5b1b0f6"
      },
      "execution_count": null,
      "outputs": [
        {
          "output_type": "execute_result",
          "data": {
            "text/plain": [
              "<sqlite3.Connection at 0x7ac42ae91040>"
            ]
          },
          "metadata": {},
          "execution_count": 50
        }
      ]
    },
    {
      "cell_type": "code",
      "source": [
        "cur = con.cursor()"
      ],
      "metadata": {
        "id": "Z5TZue33SGBm"
      },
      "execution_count": null,
      "outputs": []
    },
    {
      "cell_type": "code",
      "source": [
        "cur"
      ],
      "metadata": {
        "colab": {
          "base_uri": "https://localhost:8080/"
        },
        "id": "6eCE-99PSUpO",
        "outputId": "d3b4fdc9-2ab6-47c9-8a19-2a9359c58d0e"
      },
      "execution_count": null,
      "outputs": [
        {
          "output_type": "execute_result",
          "data": {
            "text/plain": [
              "<sqlite3.Cursor at 0x7ac429ffd740>"
            ]
          },
          "metadata": {},
          "execution_count": 52
        }
      ]
    },
    {
      "cell_type": "code",
      "source": [
        "cur.execute(\"SELECT name FROM sqlite_master WHERE type='table';\")\n",
        "tables = cur.fetchall()\n",
        "print(tables)"
      ],
      "metadata": {
        "colab": {
          "base_uri": "https://localhost:8080/"
        },
        "id": "wObx3yKbSWDY",
        "outputId": "d5fa391f-35e5-40e1-ab52-1fd506d8677f"
      },
      "execution_count": null,
      "outputs": [
        {
          "output_type": "stream",
          "name": "stdout",
          "text": [
            "[('crime_scene_report',), ('drivers_license',), ('person',), ('facebook_event_checkin',), ('interview',), ('get_fit_now_member',), ('get_fit_now_check_in',), ('income',), ('solution',)]\n"
          ]
        }
      ]
    },
    {
      "cell_type": "markdown",
      "source": [
        "#Describe Tables"
      ],
      "metadata": {
        "id": "aiO7rTJMVdtR"
      }
    },
    {
      "cell_type": "code",
      "source": [
        "lists=[]\n",
        "for table in tables:\n",
        "  table_name = table[0]\n",
        "  print(f\"{table_name}\")\n",
        "  try:\n",
        "    # Use the correct format for the PRAGMA command\n",
        "    cur.execute(f\"PRAGMA table_info('{table_name}');\")\n",
        "    columns = cur.fetchall()\n",
        "    # Print column details and append to the list\n",
        "    for column in columns:\n",
        "      lists.append(column)\n",
        "      print(column)\n",
        "  except sqlite3.OperationalError:\n",
        "    print(f\"Table '{table_name}' does not exist.\")\n"
      ],
      "metadata": {
        "colab": {
          "base_uri": "https://localhost:8080/"
        },
        "id": "wJz_i8zeUvEg",
        "outputId": "2c638182-a530-4d03-c304-bd7a0492c665"
      },
      "execution_count": null,
      "outputs": [
        {
          "output_type": "stream",
          "name": "stdout",
          "text": [
            "crime_scene_report\n",
            "(0, 'date', 'INTEGER', 0, None, 0)\n",
            "(1, 'type', 'TEXT', 0, None, 0)\n",
            "(2, 'description', 'TEXT', 0, None, 0)\n",
            "(3, 'city', 'TEXT', 0, None, 0)\n",
            "drivers_license\n",
            "(0, 'id', 'INTEGER', 0, None, 1)\n",
            "(1, 'age', 'INTEGER', 0, None, 0)\n",
            "(2, 'height', 'INTEGER', 0, None, 0)\n",
            "(3, 'eye_color', 'TEXT', 0, None, 0)\n",
            "(4, 'hair_color', 'TEXT', 0, None, 0)\n",
            "(5, 'gender', 'TEXT', 0, None, 0)\n",
            "(6, 'plate_number', 'TEXT', 0, None, 0)\n",
            "(7, 'car_make', 'TEXT', 0, None, 0)\n",
            "(8, 'car_model', 'TEXT', 0, None, 0)\n",
            "person\n",
            "(0, 'id', 'INTEGER', 0, None, 1)\n",
            "(1, 'name', 'TEXT', 0, None, 0)\n",
            "(2, 'license_id', 'INTEGER', 0, None, 0)\n",
            "(3, 'address_number', 'INTEGER', 0, None, 0)\n",
            "(4, 'address_street_name', 'TEXT', 0, None, 0)\n",
            "(5, 'ssn', 'INTEGER', 0, None, 0)\n",
            "facebook_event_checkin\n",
            "(0, 'person_id', 'INTEGER', 0, None, 0)\n",
            "(1, 'event_id', 'INTEGER', 0, None, 0)\n",
            "(2, 'event_name', 'TEXT', 0, None, 0)\n",
            "(3, 'date', 'INTEGER', 0, None, 0)\n",
            "interview\n",
            "(0, 'person_id', 'INTEGER', 0, None, 0)\n",
            "(1, 'transcript', 'TEXT', 0, None, 0)\n",
            "get_fit_now_member\n",
            "(0, 'id', 'TEXT', 0, None, 1)\n",
            "(1, 'person_id', 'INTEGER', 0, None, 0)\n",
            "(2, 'name', 'TEXT', 0, None, 0)\n",
            "(3, 'membership_start_date', 'INTEGER', 0, None, 0)\n",
            "(4, 'membership_status', 'TEXT', 0, None, 0)\n",
            "get_fit_now_check_in\n",
            "(0, 'membership_id', 'TEXT', 0, None, 0)\n",
            "(1, 'check_in_date', 'INTEGER', 0, None, 0)\n",
            "(2, 'check_in_time', 'INTEGER', 0, None, 0)\n",
            "(3, 'check_out_time', 'INTEGER', 0, None, 0)\n",
            "income\n",
            "(0, 'ssn', 'INTEGER', 0, None, 1)\n",
            "(1, 'annual_income', 'INTEGER', 0, None, 0)\n",
            "solution\n",
            "(0, 'user', 'INTEGER', 0, None, 0)\n",
            "(1, 'value', 'TEXT', 0, None, 0)\n"
          ]
        }
      ]
    },
    {
      "cell_type": "markdown",
      "source": [
        "# Retrieve Crime Scene Report:"
      ],
      "metadata": {
        "id": "2uv_EOyzbzwW"
      }
    },
    {
      "cell_type": "code",
      "source": [
        "cur.execute(\"select type,description from crime_scene_report where city='SQL City'\")\n",
        "rows = cur.fetchall()\n",
        "pd.set_option('display.max_colwidth', None)\n",
        "# Create a DataFrame from the fetched rows\n",
        "df = pd.DataFrame(rows, columns=['Type', 'Description'])\n",
        "print(df)"
      ],
      "metadata": {
        "colab": {
          "base_uri": "https://localhost:8080/"
        },
        "id": "4qNnRMlgb3PB",
        "outputId": "352fa551-952d-4a34-9455-1eb57394f593"
      },
      "execution_count": null,
      "outputs": [
        {
          "output_type": "stream",
          "name": "stdout",
          "text": [
            "      Type  \\\n",
            "0   murder   \n",
            "1   murder   \n",
            "2    theft   \n",
            "3    arson   \n",
            "4  robbery   \n",
            "5  bribery   \n",
            "6  assault   \n",
            "7  assault   \n",
            "8   murder   \n",
            "\n",
            "                                                                                                                                                                                                                                                              Description  \n",
            "0                                                                                                                                                                                                                                              REDACTED REDACTED REDACTED  \n",
            "1                                                                                                                                                                                                                 Someone killed the guard! He took an arrow to the knee!  \n",
            "2              A lone hunter stalks the night, firing arrows into the Darkness.\\n            There is no hiding, no escape. In the distance, the beast\\n            falters, tethered to the void. The killing blow comes without\\n            hesitation, without mercy.  \n",
            "3                                                                                                                                                                  Wield the Hammer of Sol with honor, Titan, it is a thing of\\n            legend, both past and future.  \n",
            "4  The Gjallarhorn shoulder-mounted rocket system was forged from\\n            the armor of Guardians who fell at the Twilight Gap. Gifted\\n            to the survivors of that terrible battle, the Gjallarhorn\\n            is seen as a symbol of honor and survival.  \n",
            "5                                                                                                                                                 Apparently, Cayde thought it necessary to expose this extremely\\n            rare vegetable to a Hive summoning ritual.  \n",
            "6                                                                                                                                                                                             Hamilton: Lee, do you yield? Burr: You shot him in the side! Yes he yields!  \n",
            "7                                                                                                                                                                                                                                                        Report Not Found  \n",
            "8                                                                               Security footage shows that there were 2 witnesses. The first witness lives at the last house on \"Northwestern Dr\". The second witness, named Annabel, lives somewhere on \"Franklin Ave\".  \n"
          ]
        }
      ]
    },
    {
      "cell_type": "markdown",
      "source": [
        "#1st Witness  "
      ],
      "metadata": {
        "id": "6dbyVAgJw_f9"
      }
    },
    {
      "cell_type": "code",
      "source": [
        "cur.execute(\"select * from person where address_street_name='Northwestern Dr'  order by address_number desc limit 1\")\n",
        "rows = cur.fetchall()\n",
        "for row in rows:\n",
        "  print(row)"
      ],
      "metadata": {
        "colab": {
          "base_uri": "https://localhost:8080/"
        },
        "id": "iPnXETrUc0rR",
        "outputId": "95d563db-3d08-4d6c-dcfd-68a9f4ef7beb"
      },
      "execution_count": null,
      "outputs": [
        {
          "output_type": "stream",
          "name": "stdout",
          "text": [
            "(14887, 'Morty Schapiro', 118009, 4919, 'Northwestern Dr', 111564949)\n"
          ]
        }
      ]
    },
    {
      "cell_type": "code",
      "source": [
        "cur.execute(\"select * from interview where person_id=14887\")\n",
        "rows = cur.fetchall()\n",
        "for row in rows:\n",
        "  print(row)"
      ],
      "metadata": {
        "colab": {
          "base_uri": "https://localhost:8080/"
        },
        "id": "lL9EhyqkjRa_",
        "outputId": "9ff0a6ee-8335-448e-ec90-8f0d0605da4c"
      },
      "execution_count": null,
      "outputs": [
        {
          "output_type": "stream",
          "name": "stdout",
          "text": [
            "(14887, 'I heard a gunshot and then saw a man run out. He had a \"Get Fit Now Gym\" bag. The membership number on the bag started with \"48Z\". Only gold members have those bags. The man got into a car with a plate that included \"H42W\".')\n"
          ]
        }
      ]
    },
    {
      "cell_type": "code",
      "source": [
        "cur.execute(\"select * from get_fit_now_member where id like '48Z%' and membership_status='gold'\")\n",
        "rows = cur.fetchall()\n",
        "for row in rows:\n",
        "  print(row)"
      ],
      "metadata": {
        "colab": {
          "base_uri": "https://localhost:8080/"
        },
        "id": "Ds8Y7sQRlTsb",
        "outputId": "b7544800-cbb4-4695-c3c0-669f9f63d145"
      },
      "execution_count": null,
      "outputs": [
        {
          "output_type": "stream",
          "name": "stdout",
          "text": [
            "('48Z7A', 28819, 'Joe Germuska', 20160305, 'gold')\n",
            "('48Z55', 67318, 'Jeremy Bowers', 20160101, 'gold')\n"
          ]
        }
      ]
    },
    {
      "cell_type": "code",
      "source": [
        "cur.execute(\"select * from get_fit_now_check_in where check_in_date=20180109 and membership_id like '48Z%'\")\n",
        "rows = cur.fetchall()\n",
        "for row in rows:\n",
        "  print(row)"
      ],
      "metadata": {
        "colab": {
          "base_uri": "https://localhost:8080/"
        },
        "id": "2oz9YAvhl1z9",
        "outputId": "e8795def-f257-4f87-8717-8b15515a8b73"
      },
      "execution_count": null,
      "outputs": [
        {
          "output_type": "stream",
          "name": "stdout",
          "text": [
            "('48Z7A', 20180109, 1600, 1730)\n",
            "('48Z55', 20180109, 1530, 1700)\n"
          ]
        }
      ]
    },
    {
      "cell_type": "code",
      "source": [
        "cur.execute(\"select * from drivers_license where plate_number like '%H42W%'\")\n",
        "rows = cur.fetchall()\n",
        "for row in rows:\n",
        "  print(row)"
      ],
      "metadata": {
        "colab": {
          "base_uri": "https://localhost:8080/"
        },
        "id": "wEit38iOq8bT",
        "outputId": "56f09d29-8a3d-4f44-9366-9b03835da676"
      },
      "execution_count": null,
      "outputs": [
        {
          "output_type": "stream",
          "name": "stdout",
          "text": [
            "(183779, 21, 65, 'blue', 'blonde', 'female', 'H42W0X', 'Toyota', 'Prius')\n",
            "(423327, 30, 70, 'brown', 'brown', 'male', '0H42W2', 'Chevrolet', 'Spark LS')\n",
            "(664760, 21, 71, 'black', 'black', 'male', '4H42WR', 'Nissan', 'Altima')\n"
          ]
        }
      ]
    },
    {
      "cell_type": "code",
      "source": [
        "cur.execute(\"select * from person where license_id=183779 or license_id=423327 or license_id=664760\")\n",
        "rows = cur.fetchall()\n",
        "for row in rows:\n",
        "  print(row)"
      ],
      "metadata": {
        "colab": {
          "base_uri": "https://localhost:8080/"
        },
        "id": "yT4bxIcNr7gf",
        "outputId": "02abbdb3-2ff5-4fc5-be8f-2d9cf052e700"
      },
      "execution_count": null,
      "outputs": [
        {
          "output_type": "stream",
          "name": "stdout",
          "text": [
            "(51739, 'Tushar Chandra', 664760, 312, 'Phi St', 137882671)\n",
            "(67318, 'Jeremy Bowers', 423327, 530, 'Washington Pl, Apt 3A', 871539279)\n",
            "(78193, 'Maxine Whitely', 183779, 110, 'Fisk Rd', 137882671)\n"
          ]
        }
      ]
    },
    {
      "cell_type": "markdown",
      "source": [
        "#Result"
      ],
      "metadata": {
        "id": "2_94s92rA6B2"
      }
    },
    {
      "cell_type": "code",
      "source": [
        "cur.execute(\"select * from get_fit_now_member where person_id=7819 or person_id=67318 or person_id=51739\")\n",
        "rows = cur.fetchall()\n",
        "for row in rows:\n",
        "  print(row)"
      ],
      "metadata": {
        "id": "irRaxd5Nsxwg",
        "colab": {
          "base_uri": "https://localhost:8080/"
        },
        "outputId": "491868fc-0807-421b-d1d7-62e9255a8d59"
      },
      "execution_count": null,
      "outputs": [
        {
          "output_type": "stream",
          "name": "stdout",
          "text": [
            "('48Z55', 67318, 'Jeremy Bowers', 20160101, 'gold')\n"
          ]
        }
      ]
    },
    {
      "cell_type": "markdown",
      "source": [
        "#Checking the other Gym person how have the gold badge"
      ],
      "metadata": {
        "id": "7BJhxSMYBz11"
      }
    },
    {
      "cell_type": "code",
      "source": [
        "cur.execute(\"select * from get_fit_now_member where id='48Z7A'\")\n",
        "rows = cur.fetchall()\n",
        "for row in rows:\n",
        "  print(row)"
      ],
      "metadata": {
        "colab": {
          "base_uri": "https://localhost:8080/"
        },
        "id": "FGUpRnEINyz1",
        "outputId": "8d6672c9-d272-4ab1-b6ec-f5bc04bdfc4c"
      },
      "execution_count": null,
      "outputs": [
        {
          "output_type": "stream",
          "name": "stdout",
          "text": [
            "('48Z7A', 28819, 'Joe Germuska', 20160305, 'gold')\n"
          ]
        }
      ]
    },
    {
      "cell_type": "code",
      "source": [
        "cur.execute(\"select * from get_fit_now_check_in where membership_id='48Z7A'\")\n",
        "rows = cur.fetchall()\n",
        "for row in rows:\n",
        "  print(row)"
      ],
      "metadata": {
        "colab": {
          "base_uri": "https://localhost:8080/"
        },
        "id": "GsW7UmXIOMtE",
        "outputId": "3999c1c0-442e-4f2d-c198-5f06c507f736"
      },
      "execution_count": null,
      "outputs": [
        {
          "output_type": "stream",
          "name": "stdout",
          "text": [
            "('48Z7A', 20180109, 1600, 1730)\n"
          ]
        }
      ]
    },
    {
      "cell_type": "code",
      "source": [
        "cur.execute(\"select * from person where id=28819\")\n",
        "rows = cur.fetchall()\n",
        "for row in rows:\n",
        "  print(row)"
      ],
      "metadata": {
        "colab": {
          "base_uri": "https://localhost:8080/"
        },
        "id": "r0mEvREdOqxC",
        "outputId": "6b277a42-dd1d-4a81-d03d-aa6afba93a1a"
      },
      "execution_count": null,
      "outputs": [
        {
          "output_type": "stream",
          "name": "stdout",
          "text": [
            "(28819, 'Joe Germuska', 173289, 111, 'Fisk Rd', 138909730)\n"
          ]
        }
      ]
    },
    {
      "cell_type": "code",
      "source": [
        "cur.execute(\"select * from drivers_license where id=173289\")\n",
        "rows = cur.fetchall()\n",
        "for row in rows:\n",
        "  print(row)"
      ],
      "metadata": {
        "id": "z540qDKzQjbs"
      },
      "execution_count": null,
      "outputs": []
    },
    {
      "cell_type": "markdown",
      "source": [
        "#Interview the Jeremy Bowers"
      ],
      "metadata": {
        "id": "rFn4U3hcBoZi"
      }
    },
    {
      "cell_type": "code",
      "source": [
        "cur.execute(\"select * from interview where person_id=67318\")\n",
        "rows = cur.fetchall()\n",
        "for row in rows:\n",
        "  print(row)"
      ],
      "metadata": {
        "colab": {
          "base_uri": "https://localhost:8080/"
        },
        "id": "04UROeD0UjqL",
        "outputId": "835b3043-8f5e-4fbf-fc34-29e845193b79"
      },
      "execution_count": null,
      "outputs": [
        {
          "output_type": "stream",
          "name": "stdout",
          "text": [
            "(67318, 'I was hired by a woman with a lot of money. I don\\'t know her name but I know she\\'s around 5\\'5\" (65\") or 5\\'7\" (67\"). She has red hair and she drives a Tesla Model S. I know that she attended the SQL Symphony Concert 3 times in December 2017.\\n')\n"
          ]
        }
      ]
    },
    {
      "cell_type": "code",
      "source": [
        "cur.execute(\"select * from drivers_license where car_make='Tesla'and hair_color='red' and gender='female'\")\n",
        "rows = cur.fetchall()\n",
        "for row in rows:\n",
        "  print(row)"
      ],
      "metadata": {
        "colab": {
          "base_uri": "https://localhost:8080/"
        },
        "id": "OxcZnKLMU90S",
        "outputId": "6d45043d-d99b-4537-b3fb-23fb82d3bb2c"
      },
      "execution_count": null,
      "outputs": [
        {
          "output_type": "stream",
          "name": "stdout",
          "text": [
            "(202298, 68, 66, 'green', 'red', 'female', '500123', 'Tesla', 'Model S')\n",
            "(291182, 65, 66, 'blue', 'red', 'female', '08CM64', 'Tesla', 'Model S')\n",
            "(918773, 48, 65, 'black', 'red', 'female', '917UU3', 'Tesla', 'Model S')\n"
          ]
        }
      ]
    },
    {
      "cell_type": "code",
      "source": [
        "first_elements = []\n",
        "\n",
        "# Extract the first element from each row\n",
        "for row in rows:\n",
        "    first_elements.append(row[0])  # Get the first element\n",
        "\n",
        "# Print the list of first elements\n",
        "print(first_elements)"
      ],
      "metadata": {
        "colab": {
          "base_uri": "https://localhost:8080/"
        },
        "id": "PCS5EyE1Wn7z",
        "outputId": "81efc342-715e-44a2-8d1d-73b567a224e7"
      },
      "execution_count": null,
      "outputs": [
        {
          "output_type": "stream",
          "name": "stdout",
          "text": [
            "[202298, 291182, 918773]\n"
          ]
        }
      ]
    },
    {
      "cell_type": "code",
      "source": [
        "placeholders = ','.join('?' for _ in first_elements)\n",
        "\n",
        "# Query the person table to find matches\n",
        "cur.execute(f\"SELECT * FROM person WHERE license_id IN ({placeholders})\", first_elements)\n",
        "matching_rows = cur.fetchall()\n",
        "match=[]\n",
        "for row in matching_rows:\n",
        "  match.append(row)\n",
        "print(match)\n",
        "\n"
      ],
      "metadata": {
        "colab": {
          "base_uri": "https://localhost:8080/"
        },
        "id": "Zi2KdCsJW1SO",
        "outputId": "b91b27ba-1ac1-4728-facc-cf5b848bb6d1"
      },
      "execution_count": null,
      "outputs": [
        {
          "output_type": "stream",
          "name": "stdout",
          "text": [
            "[(78881, 'Red Korb', 918773, 107, 'Camerata Dr', 961388910), (90700, 'Regina George', 291182, 332, 'Maple Ave', 337169072), (99716, 'Miranda Priestly', 202298, 1883, 'Golden Ave', 987756388)]\n"
          ]
        }
      ]
    },
    {
      "cell_type": "code",
      "source": [
        "match_elements = []\n",
        "# Extract the first element from each row\n",
        "for row in match:\n",
        "   match_elements.append(row[0])  # Get the first element\n",
        "\n",
        "# Print the list of first elements\n",
        "print(match_elements)"
      ],
      "metadata": {
        "colab": {
          "base_uri": "https://localhost:8080/"
        },
        "id": "d9hyUxbdXWqZ",
        "outputId": "4e4b8c16-3fa6-441c-cf84-c4117fd07d0d"
      },
      "execution_count": null,
      "outputs": [
        {
          "output_type": "stream",
          "name": "stdout",
          "text": [
            "[78881, 90700, 99716]\n"
          ]
        }
      ]
    },
    {
      "cell_type": "code",
      "source": [
        "placeholders = ','.join('?' for _ in match_elements)\n",
        "query = f\"\"\"\n",
        "SELECT person_id, count(*) as checkin_count, event_name\n",
        "FROM facebook_event_checkin\n",
        "WHERE person_id IN ({placeholders})\n",
        "GROUP BY person_id, event_name\n",
        "HAVING checkin_count = 3 AND event_name = 'SQL Symphony Concert' AND date LIKE '%201712%'\n",
        "\"\"\"\n",
        "cur.execute(query, match_elements)\n",
        "matching_rows = cur.fetchall()\n",
        "for row in matching_rows:\n",
        "    print(row)\n",
        "\n"
      ],
      "metadata": {
        "colab": {
          "base_uri": "https://localhost:8080/"
        },
        "id": "l213g9cdYV_E",
        "outputId": "646e8bcb-9aa2-4eab-92a1-5dfdc62bf600"
      },
      "execution_count": null,
      "outputs": [
        {
          "output_type": "stream",
          "name": "stdout",
          "text": [
            "(99716, 3, 'SQL Symphony Concert')\n"
          ]
        }
      ]
    },
    {
      "cell_type": "code",
      "source": [
        "cur.execute(\"select * from interview where person_id=99716\")\n",
        "rows = cur.fetchall()\n",
        "for row in rows:\n",
        "  print(row)"
      ],
      "metadata": {
        "id": "VGV9HslPaIwU"
      },
      "execution_count": null,
      "outputs": []
    },
    {
      "cell_type": "code",
      "source": [
        "cur.execute(\"select * from person where id=99716\")\n",
        "rows = cur.fetchall()\n",
        "for row in rows:\n",
        "  print(row)"
      ],
      "metadata": {
        "colab": {
          "base_uri": "https://localhost:8080/"
        },
        "id": "Sz8xE7WQCSnH",
        "outputId": "7f13df08-f807-45f8-9932-00cd70f078a4"
      },
      "execution_count": null,
      "outputs": [
        {
          "output_type": "stream",
          "name": "stdout",
          "text": [
            "(99716, 'Miranda Priestly', 202298, 1883, 'Golden Ave', 987756388)\n"
          ]
        }
      ]
    },
    {
      "cell_type": "markdown",
      "source": [
        "#2nd Witness"
      ],
      "metadata": {
        "id": "QX0riCKj2Pbj"
      }
    },
    {
      "cell_type": "code",
      "source": [
        "cur.execute(\"select * from interview where person_id=16371\")\n",
        "rows = cur.fetchall()\n",
        "for row in rows:\n",
        "  print(row)"
      ],
      "metadata": {
        "colab": {
          "base_uri": "https://localhost:8080/"
        },
        "id": "QkhOvylauJ6P",
        "outputId": "8f4ff507-c1b8-4840-d007-3570c59ccf21"
      },
      "execution_count": null,
      "outputs": [
        {
          "output_type": "stream",
          "name": "stdout",
          "text": [
            "(16371, 'I saw the murder happen, and I recognized the killer from my gym when I was working out last week on January the 9th.')\n"
          ]
        }
      ]
    },
    {
      "cell_type": "code",
      "source": [
        "cur.execute(\"select * from person where address_street_name='Franklin Ave' and name like '%Annabel%'\")\n",
        "rows = cur.fetchall()\n",
        "for row in rows:\n",
        "  print(row)"
      ],
      "metadata": {
        "colab": {
          "base_uri": "https://localhost:8080/"
        },
        "id": "z7tBoYXexR6S",
        "outputId": "05f017c2-3119-4461-96cf-1814fe758dfa"
      },
      "execution_count": null,
      "outputs": [
        {
          "output_type": "stream",
          "name": "stdout",
          "text": [
            "(16371, 'Annabel Miller', 490173, 103, 'Franklin Ave', 318771143)\n"
          ]
        }
      ]
    },
    {
      "cell_type": "code",
      "source": [
        "cur.execute(\"select * from get_fit_now_check_in where check_in_date='20180109'\")\n",
        "rows = cur.fetchall()\n",
        "# Initialize an empty list to store the rows\n",
        "rows_list = []\n",
        "# Add each row to the list\n",
        "for row in rows:\n",
        "    rows_list.append(row)\n",
        "# Print the list\n",
        "print(rows_list)"
      ],
      "metadata": {
        "id": "fRMfSrquujjt",
        "colab": {
          "base_uri": "https://localhost:8080/"
        },
        "outputId": "2e6908e9-697b-42bd-acd2-175b03ee888c"
      },
      "execution_count": null,
      "outputs": [
        {
          "output_type": "stream",
          "name": "stdout",
          "text": [
            "[('X0643', 20180109, 957, 1164), ('UK1F2', 20180109, 344, 518), ('XTE42', 20180109, 486, 1124), ('1AE2H', 20180109, 461, 944), ('6LSTG', 20180109, 399, 515), ('7MWHJ', 20180109, 273, 885), ('GE5Q8', 20180109, 367, 959), ('48Z7A', 20180109, 1600, 1730), ('48Z55', 20180109, 1530, 1700), ('90081', 20180109, 1600, 1700)]\n"
          ]
        }
      ]
    },
    {
      "cell_type": "code",
      "source": [
        "membership_ids = []\n",
        "# Extract the membership IDs from the rows and add them to the list\n",
        "for row in rows_list:\n",
        "    membership_ids.append(row[0])\n",
        "# Print the list of membership IDs\n",
        "print(membership_ids)"
      ],
      "metadata": {
        "id": "uxsUNUrB3J6h",
        "colab": {
          "base_uri": "https://localhost:8080/"
        },
        "outputId": "e62d6d97-7cbb-47de-abcf-58a2efcb5a34"
      },
      "execution_count": null,
      "outputs": [
        {
          "output_type": "stream",
          "name": "stdout",
          "text": [
            "['X0643', 'UK1F2', 'XTE42', '1AE2H', '6LSTG', '7MWHJ', 'GE5Q8', '48Z7A', '48Z55', '90081']\n"
          ]
        }
      ]
    },
    {
      "cell_type": "code",
      "source": [
        "placeholders = ','.join('?' for _ in membership_ids)\n",
        "cur.execute(f\"SELECT * FROM get_fit_now_member WHERE id IN ({placeholders})\", membership_ids)\n",
        "rows = cur.fetchall()\n",
        "rows_ids=[]\n",
        "for row in rows:\n",
        "  rows_ids.append(row)\n",
        "print(rows_ids)\n",
        "\n"
      ],
      "metadata": {
        "id": "tEPl6aDA3LeJ",
        "colab": {
          "base_uri": "https://localhost:8080/"
        },
        "outputId": "5d2997f9-7d0d-4623-e893-4fd77a3c06da"
      },
      "execution_count": null,
      "outputs": [
        {
          "output_type": "stream",
          "name": "stdout",
          "text": [
            "[('1AE2H', 10815, 'Adriane Pelligra', 20170816, 'silver'), ('48Z55', 67318, 'Jeremy Bowers', 20160101, 'gold'), ('48Z7A', 28819, 'Joe Germuska', 20160305, 'gold'), ('6LSTG', 83186, 'Burton Grippe', 20170214, 'gold'), ('7MWHJ', 31523, 'Blossom Crescenzo', 20180309, 'regular'), ('90081', 16371, 'Annabel Miller', 20160208, 'gold'), ('GE5Q8', 92736, 'Carmen Dimick', 20170618, 'gold'), ('UK1F2', 28073, 'Zackary Cabotage', 20170818, 'silver'), ('X0643', 15247, 'Shondra Ledlow', 20170521, 'silver'), ('XTE42', 55662, 'Sarita Bartosh', 20170524, 'gold')]\n"
          ]
        }
      ]
    },
    {
      "cell_type": "code",
      "source": [
        "person_ids = []\n",
        "# Extract the membership IDs from the rows and add them to the list\n",
        "for row in rows_ids:\n",
        "    #a=(row[1])\n",
        "    b=(row[2])\n",
        "# Print the list of membership IDs\n",
        "    #person_ids.append(a)\n",
        "    #person_ids.append(\"->\")\n",
        "    person_ids.append(b)\n",
        "print(person_ids)\n"
      ],
      "metadata": {
        "colab": {
          "base_uri": "https://localhost:8080/"
        },
        "id": "ubHYlp2y_Fc8",
        "outputId": "3c11eb36-d567-4c21-cd3c-3074db77c6f6"
      },
      "execution_count": null,
      "outputs": [
        {
          "output_type": "stream",
          "name": "stdout",
          "text": [
            "['Adriane Pelligra', 'Jeremy Bowers', 'Joe Germuska', 'Burton Grippe', 'Blossom Crescenzo', 'Annabel Miller', 'Carmen Dimick', 'Zackary Cabotage', 'Shondra Ledlow', 'Sarita Bartosh']\n"
          ]
        }
      ]
    },
    {
      "cell_type": "code",
      "source": [
        "#Here Jeremy Bowers is matched with the information from the first witness"
      ],
      "metadata": {
        "id": "Yh1p32MPHPza"
      },
      "execution_count": null,
      "outputs": []
    },
    {
      "cell_type": "markdown",
      "source": [
        "#Here Jeremy Bowers is matched with the information from the first witness"
      ],
      "metadata": {
        "id": "dVmARasdC2eB"
      }
    },
    {
      "cell_type": "markdown",
      "source": [
        "#Solution To find the Killer"
      ],
      "metadata": {
        "id": "n1f1skH1bIOk"
      }
    },
    {
      "cell_type": "code",
      "source": [
        "cur.execute(\"select * from solution\")\n",
        "rows = cur.fetchall()\n",
        "for row in rows:\n",
        "  print(row)"
      ],
      "metadata": {
        "id": "6rd4IzM0JG-2",
        "colab": {
          "base_uri": "https://localhost:8080/"
        },
        "outputId": "1a2b1562-57db-49f2-cc4d-015e14898dd2"
      },
      "execution_count": null,
      "outputs": [
        {
          "output_type": "stream",
          "name": "stdout",
          "text": [
            "(0, 'Congrats, you found the brains behind the murder! Everyone in SQL City hails you as the greatest SQL detective of all time. Time to break out the champagne!')\n"
          ]
        }
      ]
    },
    {
      "cell_type": "code",
      "source": [
        "cur.execute(\"INSERT INTO solution (user, value) VALUES (?, ?)\", (1, 'Jeremy Bowers'))\n",
        "cur.execute(\"INSERT INTO solution (user, value) VALUES (?, ?)\", (1, 'Miranda Priestly'))\n",
        "con.commit()"
      ],
      "metadata": {
        "id": "y6VHqghLJXpZ"
      },
      "execution_count": null,
      "outputs": []
    },
    {
      "cell_type": "code",
      "source": [
        "cur.execute(\"select * from solution\")\n",
        "rows = cur.fetchall()\n",
        "for row in rows:\n",
        "  print(row)"
      ],
      "metadata": {
        "colab": {
          "base_uri": "https://localhost:8080/"
        },
        "id": "dONYIrs4KFa8",
        "outputId": "06911156-1869-497f-9e37-6fc843f16325"
      },
      "execution_count": null,
      "outputs": [
        {
          "output_type": "stream",
          "name": "stdout",
          "text": [
            "(0, 'Congrats, you found the brains behind the murder! Everyone in SQL City hails you as the greatest SQL detective of all time. Time to break out the champagne!')\n"
          ]
        }
      ]
    },
    {
      "cell_type": "code",
      "source": [
        "con.close()"
      ],
      "metadata": {
        "id": "5vKmDoVZKQvj"
      },
      "execution_count": null,
      "outputs": []
    },
    {
      "cell_type": "code",
      "source": [],
      "metadata": {
        "id": "sZnIc2Yb-UDa"
      },
      "execution_count": null,
      "outputs": []
    }
  ]
}